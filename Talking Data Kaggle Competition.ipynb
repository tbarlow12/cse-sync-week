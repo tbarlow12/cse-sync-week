{
 "cells": [
  {
   "cell_type": "code",
   "execution_count": 1,
   "metadata": {
    "scrolled": false
   },
   "outputs": [
    {
     "name": "stdout",
     "output_type": "stream",
     "text": [
      "root\n",
      " |-- ip: integer (nullable = true)\n",
      " |-- app: integer (nullable = true)\n",
      " |-- device: integer (nullable = true)\n",
      " |-- os: integer (nullable = true)\n",
      " |-- channel: integer (nullable = true)\n",
      " |-- click_time: timestamp (nullable = true)\n",
      " |-- attributed_time: timestamp (nullable = true)\n",
      " |-- is_attributed: integer (nullable = true)\n",
      "\n"
     ]
    }
   ],
   "source": [
    "t0_df = spark.read.csv(\"sample-data/train_sample.csv\",header=True,inferSchema=True)\n",
    "t0_df.printSchema()"
   ]
  },
  {
   "cell_type": "code",
   "execution_count": 2,
   "metadata": {},
   "outputs": [
    {
     "ename": "NameError",
     "evalue": "name 'dayofmonth' is not defined",
     "output_type": "error",
     "traceback": [
      "\u001b[1;31m---------------------------------------------------------------------------\u001b[0m",
      "\u001b[1;31mNameError\u001b[0m                                 Traceback (most recent call last)",
      "\u001b[1;32m<ipython-input-2-b5caf98bc1c7>\u001b[0m in \u001b[0;36m<module>\u001b[1;34m()\u001b[0m\n\u001b[1;32m----> 1\u001b[1;33m \u001b[0mt0_df\u001b[0m \u001b[1;33m=\u001b[0m \u001b[0mt0_df\u001b[0m\u001b[1;33m.\u001b[0m\u001b[0mwithColumn\u001b[0m\u001b[1;33m(\u001b[0m\u001b[1;34m\"day\"\u001b[0m\u001b[1;33m,\u001b[0m\u001b[0mdayofmonth\u001b[0m\u001b[1;33m(\u001b[0m\u001b[0mt0_df\u001b[0m\u001b[1;33m[\u001b[0m\u001b[1;34m\"click_time\"\u001b[0m\u001b[1;33m]\u001b[0m\u001b[1;33m)\u001b[0m\u001b[1;33m)\u001b[0m\u001b[1;33m\u001b[0m\u001b[0m\n\u001b[0m\u001b[0;32m      2\u001b[0m \u001b[0mt0_df\u001b[0m \u001b[1;33m=\u001b[0m \u001b[0mt0_df\u001b[0m\u001b[1;33m.\u001b[0m\u001b[0mwithColumn\u001b[0m\u001b[1;33m(\u001b[0m\u001b[1;34m\"hour\"\u001b[0m\u001b[1;33m,\u001b[0m\u001b[0mhour\u001b[0m\u001b[1;33m(\u001b[0m\u001b[0mt0_df\u001b[0m\u001b[1;33m[\u001b[0m\u001b[1;34m\"click_time\"\u001b[0m\u001b[1;33m]\u001b[0m\u001b[1;33m)\u001b[0m\u001b[1;33m)\u001b[0m\u001b[1;33m\u001b[0m\u001b[0m\n\u001b[0;32m      3\u001b[0m \u001b[0mt0_df\u001b[0m\u001b[1;33m.\u001b[0m\u001b[0mtake\u001b[0m\u001b[1;33m(\u001b[0m\u001b[1;36m1\u001b[0m\u001b[1;33m)\u001b[0m\u001b[1;33m\u001b[0m\u001b[0m\n",
      "\u001b[1;31mNameError\u001b[0m: name 'dayofmonth' is not defined"
     ]
    }
   ],
   "source": [
    "from pyspark.sql.functions import *\n",
    "t0_df = t0_df.withColumn(\"day\",dayofmonth(t0_df[\"click_time\"]))\n",
    "t0_df = t0_df.withColumn(\"hour\",hour(t0_df[\"click_time\"]))\n",
    "t0_df.take(1)"
   ]
  },
  {
   "cell_type": "code",
   "execution_count": null,
   "metadata": {
    "scrolled": true
   },
   "outputs": [],
   "source": [
    "from pyspark.ml.feature import VectorAssembler\n",
    "from pyspark.ml.feature import StringIndexer\n",
    "\n",
    "final_df = t0_df\n",
    "\n",
    "vectorAssembler = VectorAssembler(inputCols=[\n",
    "    \"app\",\n",
    "    \"device\",\n",
    "    \"os\",\n",
    "    \"channel\",\n",
    "    \"day\",\n",
    "    \"hour\"\n",
    "], outputCol=\"features\")\n",
    "\n",
    "v_final_df = vectorAssembler.transform(final_df)\n",
    "v_final_df.printSchema()"
   ]
  },
  {
   "cell_type": "code",
   "execution_count": null,
   "metadata": {},
   "outputs": [],
   "source": [
    "splits = v_final_df.randomSplit([0.6,0.4],1)\n",
    "\n",
    "train_df = splits[0]\n",
    "test_df = splits[1]\n",
    "\n",
    "print(train_df.count(),test_df.count())"
   ]
  },
  {
   "cell_type": "code",
   "execution_count": null,
   "metadata": {},
   "outputs": [],
   "source": [
    "from pyspark.ml.tuning import TrainValidationSplit, ParamGridBuilder, CrossValidator\n",
    "from pyspark.ml.classification import DecisionTreeClassifier\n",
    "from pyspark.ml.evaluation import BinaryClassificationEvaluator\n",
    "\n",
    "dt = DecisionTreeClassifier(labelCol=\"is_attributed\",featuresCol=\"features\")\n",
    "\n",
    "dt_model = dt.fit(train_df)\n",
    "\n",
    "dt_predictions = dt_model.transform(test_df)\n",
    "\n",
    "evaluator = BinaryClassificationEvaluator(\n",
    "    labelCol=\"is_attributed\",\n",
    "    rawPredictionCol=\"prediction\")\n",
    "\n",
    "accuracy = evaluator.evaluate(dt_predictions)\n",
    "accuracy"
   ]
  },
  {
   "cell_type": "code",
   "execution_count": null,
   "metadata": {},
   "outputs": [],
   "source": [
    "#test_df = spark.read.csv(\"sample-data/test.csv\",header=True,inferSchema=True)\n"
   ]
  }
 ],
 "metadata": {
  "kernelspec": {
   "display_name": "Python 3",
   "language": "python",
   "name": "python3"
  },
  "language_info": {
   "codemirror_mode": {
    "name": "ipython",
    "version": 3
   },
   "file_extension": ".py",
   "mimetype": "text/x-python",
   "name": "python",
   "nbconvert_exporter": "python",
   "pygments_lexer": "ipython3",
   "version": "3.6.4"
  }
 },
 "nbformat": 4,
 "nbformat_minor": 2
}
