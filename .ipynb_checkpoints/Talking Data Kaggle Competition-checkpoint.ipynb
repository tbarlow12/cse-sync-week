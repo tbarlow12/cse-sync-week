{
 "cells": [
  {
   "cell_type": "code",
   "execution_count": 94,
   "metadata": {
    "scrolled": false
   },
   "outputs": [
    {
     "name": "stdout",
     "output_type": "stream",
     "text": [
      "root\n",
      " |-- ip: integer (nullable = true)\n",
      " |-- app: integer (nullable = true)\n",
      " |-- device: integer (nullable = true)\n",
      " |-- os: integer (nullable = true)\n",
      " |-- channel: integer (nullable = true)\n",
      " |-- click_time: timestamp (nullable = true)\n",
      " |-- attributed_time: timestamp (nullable = true)\n",
      " |-- is_attributed: integer (nullable = true)\n",
      "\n"
     ]
    }
   ],
   "source": [
    "t0_df = spark.read.csv(\"sample-data/train_sample.csv\",header=True,inferSchema=True)\n",
    "t0_df.printSchema()"
   ]
  },
  {
   "cell_type": "code",
   "execution_count": 95,
   "metadata": {
    "scrolled": true
   },
   "outputs": [],
   "source": [
    "from pyspark.sql.functions import *\n",
    "from pyspark.ml.feature import VectorAssembler\n",
    "from pyspark.ml.feature import StringIndexer\n",
    "\n",
    "final_df = t0_df\n",
    "\n",
    "vectorAssembler = VectorAssembler(inputCols=[\n",
    "    \"ip\",\n",
    "    \"app\",\n",
    "    \"device\",\n",
    "    \"os\",\n",
    "    \"channel\"\n",
    "    #\"click_time\", TimeStamp is not supported. Need to get important data from these\n",
    "    #\"attributed_time\"\n",
    "], outputCol=\"features\")\n",
    "\n",
    "v_final_df = vectorAssembler.transform(final_df)"
   ]
  },
  {
   "cell_type": "code",
   "execution_count": 96,
   "metadata": {},
   "outputs": [],
   "source": [
    "splits = v_final_df.randomSplit([0.6,0.4],1)\n",
    "\n",
    "train_df = splits[0]\n",
    "test_df = splits[1]"
   ]
  },
  {
   "cell_type": "code",
   "execution_count": 90,
   "metadata": {},
   "outputs": [],
   "source": [
    "from pyspark.ml.tuning import TrainValidationSplit, ParamGridBuilder, CrossValidator\n",
    "from pyspark.ml.classification import DecisionTreeClassifier\n",
    "from pyspark.ml.evaluation import BinaryClassificationEvaluator\n",
    "\n",
    "dt = DecisionTreeClassifier(labelCol=\"is_attributed\",featuresCol=\"features\")\n",
    "\n",
    "\n",
    "\n"
   ]
  },
  {
   "cell_type": "code",
   "execution_count": 12,
   "metadata": {},
   "outputs": [
    {
     "name": "stdout",
     "output_type": "stream",
     "text": [
      "+------+-------+-------+\n",
      "|    ip|channel|channel|\n",
      "+------+-------+-------+\n",
      "| 87540|    497|    497|\n",
      "|105560|    259|    259|\n",
      "|101424|    212|    212|\n",
      "| 94584|    477|    477|\n",
      "| 68413|    178|    178|\n",
      "| 93663|    115|    115|\n",
      "| 17059|    135|    135|\n",
      "|121505|    442|    442|\n",
      "|192967|    364|    364|\n",
      "|143636|    135|    135|\n",
      "| 73839|    489|    489|\n",
      "| 34812|    489|    489|\n",
      "|114809|    205|    205|\n",
      "|114220|    125|    125|\n",
      "| 36150|    205|    205|\n",
      "| 72116|    259|    259|\n",
      "|  5314|    477|    477|\n",
      "|106598|    280|    280|\n",
      "| 72065|    259|    259|\n",
      "| 37301|    349|    349|\n",
      "+------+-------+-------+\n",
      "only showing top 20 rows\n",
      "\n"
     ]
    }
   ],
   "source": []
  },
  {
   "cell_type": "code",
   "execution_count": null,
   "metadata": {},
   "outputs": [],
   "source": [
    "#test_df = spark.read.csv(\"sample-data/test.csv\",header=True,inferSchema=True)\n"
   ]
  }
 ],
 "metadata": {
  "kernelspec": {
   "display_name": "Python 3",
   "language": "python",
   "name": "python3"
  },
  "language_info": {
   "codemirror_mode": {
    "name": "ipython",
    "version": 3
   },
   "file_extension": ".py",
   "mimetype": "text/x-python",
   "name": "python",
   "nbconvert_exporter": "python",
   "pygments_lexer": "ipython3",
   "version": "3.6.4"
  }
 },
 "nbformat": 4,
 "nbformat_minor": 2
}
