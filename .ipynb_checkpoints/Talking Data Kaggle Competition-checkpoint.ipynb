{
 "cells": [
  {
   "cell_type": "code",
   "execution_count": 29,
   "metadata": {
    "scrolled": false
   },
   "outputs": [
    {
     "name": "stdout",
     "output_type": "stream",
     "text": [
      "root\n",
      " |-- ip: integer (nullable = true)\n",
      " |-- app: integer (nullable = true)\n",
      " |-- device: integer (nullable = true)\n",
      " |-- os: integer (nullable = true)\n",
      " |-- channel: integer (nullable = true)\n",
      " |-- click_time: timestamp (nullable = true)\n",
      " |-- attributed_time: timestamp (nullable = true)\n",
      " |-- is_attributed: integer (nullable = true)\n",
      "\n"
     ]
    }
   ],
   "source": [
    "t0_df = spark.read.csv(\"sample-data/train_sample.csv\",header=True,inferSchema=True)\n",
    "t0_df.printSchema()"
   ]
  },
  {
   "cell_type": "markdown",
   "metadata": {},
   "source": [
    "### Original Schema\n",
    "- ip - IP address of click\n",
    "- app - app id for marketing\n",
    "- device - device **type** id of user mobile phone (e.g. iphone 6, iphone 7, etc.)\n",
    "- os - os version id of user mobile phone\n",
    "- channel - channel id of mobile ad publisher\n",
    "- click_time - timestamp of click (UTC)\n",
    "- attributed_time - if user downloaded the app after clicking an ad, this is the time of the app download\n",
    "- is_attributed - the target that is to be predicted"
   ]
  },
  {
   "cell_type": "code",
   "execution_count": 30,
   "metadata": {},
   "outputs": [
    {
     "name": "stdout",
     "output_type": "stream",
     "text": [
      "root\n",
      " |-- ip: integer (nullable = true)\n",
      " |-- app: integer (nullable = true)\n",
      " |-- device: integer (nullable = true)\n",
      " |-- os: integer (nullable = true)\n",
      " |-- channel: integer (nullable = true)\n",
      " |-- click_time: timestamp (nullable = true)\n",
      " |-- attributed_time: timestamp (nullable = true)\n",
      " |-- is_attributed: integer (nullable = true)\n",
      " |-- day: integer (nullable = true)\n",
      " |-- hour: integer (nullable = true)\n",
      " |-- isChannel213: integer (nullable = false)\n",
      " |-- isChannel113: integer (nullable = false)\n",
      " |-- isChannel21: integer (nullable = false)\n",
      " |-- isApp19: integer (nullable = false)\n",
      " |-- isApp35: integer (nullable = false)\n",
      " |-- isApp29: integer (nullable = false)\n",
      " |-- isApp10: integer (nullable = false)\n",
      "\n"
     ]
    }
   ],
   "source": [
    "from pyspark.sql.functions import *\n",
    "from pyspark.sql import functions as F\n",
    "\n",
    "#Extract day and hour from click time\n",
    "t0_df = t0_df.withColumn(\"day\",dayofmonth(t0_df[\"click_time\"]))\n",
    "t0_df = t0_df.withColumn(\"hour\",hour(t0_df[\"click_time\"]))\n",
    "\n",
    "#Add binary features\n",
    "\n",
    "#Top Channels for positive examples\n",
    "t0_df = t0_df.withColumn(\"isChannel213\",F.when(t0_df[\"channel\"] == 213,1).otherwise(0))\n",
    "t0_df = t0_df.withColumn(\"isChannel113\",F.when(t0_df[\"channel\"] == 113,1).otherwise(0))\n",
    "t0_df = t0_df.withColumn(\"isChannel21\",F.when(t0_df[\"channel\"] == 211,1).otherwise(0))\n",
    "\n",
    "#Top apps for positive examples\n",
    "t0_df = t0_df.withColumn(\"isApp19\",F.when(t0_df[\"app\"] == 19,1).otherwise(0))\n",
    "t0_df = t0_df.withColumn(\"isApp35\",F.when(t0_df[\"app\"] == 35,1).otherwise(0))\n",
    "t0_df = t0_df.withColumn(\"isApp29\",F.when(t0_df[\"app\"] == 29,1).otherwise(0))\n",
    "t0_df = t0_df.withColumn(\"isApp10\",F.when(t0_df[\"app\"] == 10,1).otherwise(0))\n",
    "\n",
    "t0_df.printSchema()"
   ]
  },
  {
   "cell_type": "markdown",
   "metadata": {},
   "source": [
    "### Features added\n",
    "- day - day of month of click\n",
    "- hour - hour of day of click\n",
    "- Top Channel features: \"isChannelX\"\n",
    "    - 213\n",
    "    - 113\n",
    "    - 21\n",
    "- Top App features: \"isAppX\"\n",
    "    - 19\n",
    "    - 35\n",
    "    - 10"
   ]
  },
  {
   "cell_type": "code",
   "execution_count": 31,
   "metadata": {
    "scrolled": true
   },
   "outputs": [
    {
     "name": "stdout",
     "output_type": "stream",
     "text": [
      "+--------------------+-------------+\n",
      "|            features|is_attributed|\n",
      "+--------------------+-------------+\n",
      "|(13,[0,1,2,3,4,5]...|            0|\n",
      "|(13,[0,1,2,3,4,5]...|            0|\n",
      "|(13,[0,1,2,3,4,5]...|            0|\n",
      "|(13,[0,1,2,3,4,5]...|            0|\n",
      "|(13,[0,1,2,3,4,5]...|            0|\n",
      "|(13,[0,1,2,3,4,5]...|            0|\n",
      "|(13,[0,1,2,3,4,5]...|            0|\n",
      "|(13,[0,1,2,3,4,5]...|            0|\n",
      "|(13,[0,1,2,3,4,5]...|            0|\n",
      "|(13,[0,1,2,3,4,5]...|            0|\n",
      "|(13,[0,1,2,3,4,5]...|            0|\n",
      "|(13,[0,1,2,3,4,5]...|            0|\n",
      "|(13,[0,1,2,3,4,5]...|            0|\n",
      "|(13,[0,1,2,3,4,5]...|            0|\n",
      "|(13,[0,1,2,3,4],[...|            0|\n",
      "|(13,[0,1,2,3,4,5]...|            0|\n",
      "|(13,[0,1,2,3,4,5]...|            0|\n",
      "|(13,[0,1,2,3,4,5]...|            0|\n",
      "|(13,[0,1,2,3,4,5]...|            0|\n",
      "|(13,[0,1,2,3,4,5]...|            0|\n",
      "+--------------------+-------------+\n",
      "only showing top 20 rows\n",
      "\n"
     ]
    }
   ],
   "source": [
    "from pyspark.ml.feature import VectorAssembler\n",
    "from pyspark.ml.feature import StringIndexer\n",
    "\n",
    "#Select features to actually use in training\n",
    "vectorAssembler = VectorAssembler(inputCols=[\n",
    "    \"app\",\n",
    "    \"device\",\n",
    "    \"os\",\n",
    "    \"channel\",\n",
    "    \"day\",\n",
    "    \"hour\",\n",
    "    \"isChannel213\",\n",
    "    \"isChannel113\",\n",
    "    \"isChannel21\",\n",
    "    \"isApp19\",\n",
    "    \"isApp35\",\n",
    "    \"isApp29\",\n",
    "    \"isApp10\"\n",
    "], outputCol=\"features\")\n",
    "\n",
    "v_t0_df = vectorAssembler.transform(t0_df)\n",
    "v_t0_df.select(\"features\",\"is_attributed\").show()"
   ]
  },
  {
   "cell_type": "code",
   "execution_count": 32,
   "metadata": {},
   "outputs": [
    {
     "name": "stdout",
     "output_type": "stream",
     "text": [
      "60059 39941\n"
     ]
    }
   ],
   "source": [
    "splits = v_final_df.randomSplit([0.6,0.4],1)\n",
    "\n",
    "train_df = splits[0]\n",
    "test_df = splits[1]\n",
    "\n",
    "print(train_df.count(),test_df.count())"
   ]
  },
  {
   "cell_type": "code",
   "execution_count": 33,
   "metadata": {},
   "outputs": [
    {
     "data": {
      "text/plain": [
       "0.5156890871962319"
      ]
     },
     "execution_count": 33,
     "metadata": {},
     "output_type": "execute_result"
    }
   ],
   "source": [
    "from pyspark.ml.tuning import TrainValidationSplit, ParamGridBuilder, CrossValidator\n",
    "from pyspark.ml.classification import DecisionTreeClassifier\n",
    "from pyspark.ml.evaluation import BinaryClassificationEvaluator\n",
    "\n",
    "dt = DecisionTreeClassifier(labelCol=\"is_attributed\",featuresCol=\"features\")\n",
    "\n",
    "dt_model = dt.fit(train_df)\n",
    "\n",
    "dt_predictions = dt_model.transform(test_df)\n",
    "\n",
    "evaluator = BinaryClassificationEvaluator(\n",
    "    labelCol=\"is_attributed\",\n",
    "    rawPredictionCol=\"prediction\")\n",
    "\n",
    "accuracy = evaluator.evaluate(dt_predictions)\n",
    "accuracy"
   ]
  },
  {
   "cell_type": "code",
   "execution_count": 34,
   "metadata": {},
   "outputs": [],
   "source": [
    "#test_df = spark.read.csv(\"sample-data/test.csv\",header=True,inferSchema=True)\n"
   ]
  }
 ],
 "metadata": {
  "kernelspec": {
   "display_name": "Python 3",
   "language": "python",
   "name": "python3"
  }
 },
 "nbformat": 4,
 "nbformat_minor": 2
}
